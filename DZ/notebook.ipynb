{
 "cells": [
  {
   "cell_type": "markdown",
   "id": "b1598b8e",
   "metadata": {},
   "source": [
    "# Семестровое домашнее задание"
   ]
  },
  {
   "cell_type": "markdown",
   "metadata": {},
   "source": [
    "Получение чисел через запрос на локальный сервер"
   ]
  },
  {
   "cell_type": "code",
   "execution_count": 75,
   "id": "e2240a01",
   "metadata": {},
   "outputs": [
    {
     "name": "stdout",
     "output_type": "stream",
     "text": [
      "[0, 1, 1, 2, 3, 5, 8, 13, 21, 34, 55, 89, 144, 233, 377, 610, 987, 1597, 2584, 4181]\n"
     ]
    }
   ],
   "source": [
    "import requests\n",
    "import json\n",
    "r = requests.get('http://localhost:5000/20')\n",
    "y = json.loads(r.text)\n",
    "print(y)"
   ]
  },
  {
   "cell_type": "code",
   "execution_count": 84,
   "id": "394ad224",
   "metadata": {},
   "outputs": [
    {
     "data": {
      "image/png": "[encoded data removed]",
      "text/plain": [
       "<Figure size 432x288 with 1 Axes>"
      ]
     },
     "metadata": {
      "needs_background": "light"
     },
     "output_type": "display_data"
    },
    {
     "name": "stdout",
     "output_type": "stream",
     "text": [
      "[       0        1        1        4        9       25       64      169\n",
      "      441     1156     3025     7921    20736    54289   142129   372100\n",
      "   974169  2550409  6677056 17480761]\n",
      "[       0        1        1        4        9       25       64      169\n",
      "      441     1156     3025     7921    20736    54289   142129   372100\n",
      "   974169  2550409  6677056 17480761]\n"
     ]
    }
   ],
   "source": [
    "import matplotlib.pyplot as mpl\n",
    "import numpy as np\n",
    "from mpl_toolkits import mplot3d\n",
    "%matplotlib inline\n",
    "\n",
    "axis = mpl.axes()\n",
    "x = np.arange(0, 20)\n",
    "axis.plot(x, y)\n",
    "mpl.show()\n",
    "\n"
   ]
  },
  {
   "cell_type": "code",
   "execution_count": null,
   "id": "186f7bf9",
   "metadata": {},
   "outputs": [],
   "source": []
  }
 ],
 "metadata": {
  "kernelspec": {
   "display_name": "Python 3 (ipykernel)",
   "language": "python",
   "name": "python3"
  },
  "language_info": {
   "codemirror_mode": {
    "name": "ipython",
    "version": 3
   },
   "file_extension": ".py",
   "mimetype": "text/x-python",
   "name": "python",
   "nbconvert_exporter": "python",
   "pygments_lexer": "ipython3",
   "version": "3.8.10"
  },
  "vscode": {
   "interpreter": {
    "hash": "916dbcbb3f70747c44a77c7bcd40155683ae19c65e1c03b4aa3499c5328201f1"
   }
  }
 },
 "nbformat": 4,
 "nbformat_minor": 5
}
